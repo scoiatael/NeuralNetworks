{
 "cells": [
  {
   "cell_type": "code",
   "execution_count": 1,
   "metadata": {
    "collapsed": false
   },
   "outputs": [
    {
     "name": "stdout",
     "output_type": "stream",
     "text": [
      "Populating the interactive namespace from numpy and matplotlib\n"
     ]
    }
   ],
   "source": [
    "%pylab inline"
   ]
  },
  {
   "cell_type": "code",
   "execution_count": 3,
   "metadata": {
    "collapsed": false
   },
   "outputs": [
    {
     "name": "stderr",
     "output_type": "stream",
     "text": [
      "/usr/lib/python3.5/site-packages/sklearn/utils/fixes.py:64: DeprecationWarning: inspect.getargspec() is deprecated, use inspect.signature() instead\n",
      "  if 'order' in inspect.getargspec(np.copy)[0]:\n"
     ]
    }
   ],
   "source": [
    "from sklearn import datasets"
   ]
  },
  {
   "cell_type": "code",
   "execution_count": 50,
   "metadata": {
    "collapsed": false
   },
   "outputs": [],
   "source": [
    "iris = datasets.load_iris()\n",
    "\n",
    "def knn(mask, point, k):\n",
    "    diff = iris.data[mask] - point\n",
    "\n",
    "    diff_squared = (diff**2)\n",
    "    distances = dot(diff_squared, ones((len(iris.feature_names),1)))\n",
    "\n",
    "    tops = numpy.argsort(distances[:,0])\n",
    "\n",
    "    return iris.target[mask][tops[:k]]"
   ]
  },
  {
   "cell_type": "code",
   "execution_count": 208,
   "metadata": {
    "collapsed": false
   },
   "outputs": [
    {
     "data": {
      "text/plain": [
       "0.08"
      ]
     },
     "execution_count": 208,
     "metadata": {},
     "output_type": "execute_result"
    }
   ],
   "source": [
    "k = 5\n",
    "test_count = 500\n",
    "errors = 0\n",
    "for i in range(test_count):\n",
    "    all_numbers = range(0, len(iris.target))\n",
    "    learning_mask = random.choice(all_numbers, int(2 * len(iris.target) / 3), replace=False)\n",
    "    testing_mask = set(all_numbers).difference(set(learning_mask))\n",
    "    for x in testing_mask:\n",
    "        predicted_list = knn(learning_mask, iris.data[x], k)\n",
    "        predicted = random.choice(predicted_list)\n",
    "        if predicted != iris.target[x]:\n",
    "            errors += 1\n",
    "errors / len(testing_mask)"
   ]
  },
  {
   "cell_type": "code",
   "execution_count": null,
   "metadata": {
    "collapsed": true
   },
   "outputs": [],
   "source": []
  }
 ],
 "metadata": {
  "kernelspec": {
   "display_name": "Python 3",
   "language": "python",
   "name": "python3"
  },
  "language_info": {
   "codemirror_mode": {
    "name": "ipython",
    "version": 3
   },
   "file_extension": ".py",
   "mimetype": "text/x-python",
   "name": "python",
   "nbconvert_exporter": "python",
   "pygments_lexer": "ipython3",
   "version": "3.5.0"
  }
 },
 "nbformat": 4,
 "nbformat_minor": 0
}
