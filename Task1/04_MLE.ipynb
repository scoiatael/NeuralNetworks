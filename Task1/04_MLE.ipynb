{
 "cells": [
  {
   "cell_type": "markdown",
   "metadata": {},
   "source": [
    "# Problem 8\n",
    "http://mathworld.wolfram.com/MaximumLikelihood.html"
   ]
  },
  {
   "cell_type": "markdown",
   "metadata": {},
   "source": [
    "## Bernoulli\n",
    "$$f(x_1, x_2, ... , x_n \\bigm\\lvert p) = p ^{\\sum x_i} (1 - p)^{\\sum (1 - x_i)}$$"
   ]
  },
  {
   "cell_type": "markdown",
   "metadata": {},
   "source": [
    "## Normal (Gaussian)\n",
    "$$f(x_1,...,x_n \\bigm\\lvert \\mu,\\sigma) = \\prod\\frac{1}{\\sigma\\sqrt{2 \\pi}}e^{\\frac{- (x_i-\\mu)^2}{2\\sigma^2}}$$"
   ]
  },
  {
   "cell_type": "markdown",
   "metadata": {},
   "source": [
    "## Poisson\n",
    "$$ f(x_1,...,x_n \\bigm\\lvert \\lambda)=\\frac{e^{-n \\lambda}\\lambda^{\\sum x_i}}{\\prod x_i!} $$"
   ]
  },
  {
   "cell_type": "markdown",
   "metadata": {},
   "source": [
    "# Problem 9"
   ]
  },
  {
   "cell_type": "code",
   "execution_count": 11,
   "metadata": {
    "collapsed": false
   },
   "outputs": [
    {
     "name": "stdout",
     "output_type": "stream",
     "text": [
      "Populating the interactive namespace from numpy and matplotlib\n"
     ]
    },
    {
     "name": "stderr",
     "output_type": "stream",
     "text": [
      "WARNING: pylab import has clobbered these variables: ['norm', 'beta']\n",
      "`%matplotlib` prevents importing * from pylab and numpy\n"
     ]
    }
   ],
   "source": [
    "%pylab inline\n",
    "from scipy.stats import binom, norm, beta"
   ]
  },
  {
   "cell_type": "code",
   "execution_count": 12,
   "metadata": {
    "collapsed": true
   },
   "outputs": [],
   "source": [
    "n = 500\n",
    "p = 0.4"
   ]
  },
  {
   "cell_type": "code",
   "execution_count": 22,
   "metadata": {
    "collapsed": false
   },
   "outputs": [
    {
     "data": {
      "text/plain": [
       "(array([ 999.,    0.,    0.,    0.,    0.,    0.,    0.,    0.,    0.,    1.]),\n",
       " array([  0.00000000e+000,   1.19021438e-112,   2.38042875e-112,\n",
       "          3.57064313e-112,   4.76085751e-112,   5.95107188e-112,\n",
       "          7.14128626e-112,   8.33150064e-112,   9.52171501e-112,\n",
       "          1.07119294e-111,   1.19021438e-111]),\n",
       " <a list of 10 Patch objects>)"
      ]
     },
     "execution_count": 22,
     "metadata": {},
     "output_type": "execute_result"
    },
    {
     "data": {
      "image/png": "[encoded data removed]",
      "text/plain": [
       "<matplotlib.figure.Figure at 0x7fd038cac710>"
      ]
     },
     "metadata": {},
     "output_type": "display_data"
    }
   ],
   "source": [
    "# the binomial distribution\n",
    "model = binom(n=n, p=p)\n",
    "x = arange(n+1)\n",
    "\n",
    "\n",
    "# plot the normal approximation\n",
    "mu = p * n\n",
    "model_norm = norm(mu, stdev)\n",
    "x_cont = linspace(x[0], x[-1], 1000)\n",
    "#plot(x_cont, model_norm.pdf(x_cont), 'b')\n",
    "hist(model.pmf(x_cont))"
   ]
  },
  {
   "cell_type": "code",
   "execution_count": null,
   "metadata": {
    "collapsed": true
   },
   "outputs": [],
   "source": []
  }
 ],
 "metadata": {
  "kernelspec": {
   "display_name": "Python 2",
   "language": "python2",
   "name": "python2"
  },
  "language_info": {
   "codemirror_mode": {
    "name": "ipython",
    "version": 2
   },
   "file_extension": ".py",
   "mimetype": "text/x-python",
   "name": "python",
   "nbconvert_exporter": "python",
   "pygments_lexer": "ipython2",
   "version": "2.7.10"
  }
 },
 "nbformat": 4,
 "nbformat_minor": 0
}
